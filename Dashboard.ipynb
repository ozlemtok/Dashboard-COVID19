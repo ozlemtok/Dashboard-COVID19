{
 "cells": [
  {
   "cell_type": "markdown",
   "metadata": {},
   "source": [
    "# Create a Dashboard Using Coronavirus Dataset"
   ]
  },
  {
   "cell_type": "markdown",
   "metadata": {},
   "source": [
    "This project shows how to make a dashboard in Python using coronavirus dataset obtained from [EU Open Data Portal - COVID-19 Coronavirus Data ](https://data.europa.eu/euodp/en/data/dataset/covid-19-coronavirus-data).\n",
    "\n",
    "Dash apps are composed of 2 parts: layout and interactivity. \n",
    "Layout can be set by html components.\n",
    "Interactivity can be achieved using callbacks.\n",
    "\n",
    "\n",
    "**Sources:**\n",
    "\n",
    "1. https://dash.plotly.com/dash-core-components/tabs\n",
    "2. https://medium.com/swlh/dashboards-in-python-for-beginners-and-everyone-else-using-dash-f0a045a86644\n",
    "3. https://medium.com/a-r-g-o/using-plotlys-dash-to-deliver-public-sector-decision-support-dashboards-ac863fa829fb\n",
    "4. https://www.w3schools.com/bootstrap/bootstrap_grid_system.asp"
   ]
  },
  {
   "cell_type": "markdown",
   "metadata": {},
   "source": [
    "### 1. Import Necessary Libraries"
   ]
  },
  {
   "cell_type": "code",
   "execution_count": 1,
   "metadata": {},
   "outputs": [],
   "source": [
    "import pandas as pd\n",
    "import dash\n",
    "import jupyterlab_dash\n",
    "\n",
    "#These libraries are for the layout (visual components of the application) :\n",
    "import dash_core_components as dcc #describe higher-level components that are interactive and are generated with \n",
    "                                   #JavaScript, HTML, and CSS through the React.js library.\n",
    "import dash_html_components as html\n",
    "from dash.dependencies import Input, Output # needed for callbacks\n",
    "import dash_table # needed to make a table in dashboard\n",
    "import plotly.express as px # needed to make map"
   ]
  },
  {
   "cell_type": "markdown",
   "metadata": {},
   "source": [
    "### 2. Load the Data"
   ]
  },
  {
   "cell_type": "code",
   "execution_count": 2,
   "metadata": {},
   "outputs": [],
   "source": [
    "# load data\n",
    "df = pd.read_csv('./coronavirus_dataset.csv')"
   ]
  },
  {
   "cell_type": "markdown",
   "metadata": {},
   "source": [
    "### 3. Clean Data"
   ]
  },
  {
   "cell_type": "code",
   "execution_count": 3,
   "metadata": {},
   "outputs": [],
   "source": [
    "# clean data\n",
    "df = df.rename(columns={'dateRep':'Date','countriesAndTerritories':'Country',\n",
    "                        'countryterritoryCode':'Code','popData2018':'Population',\n",
    "                        'cases':'Cases', 'deaths':'Deaths'})\n",
    "# change date time\n",
    "df.Date = pd.to_datetime(df.Date, format='%d/%m/%Y')"
   ]
  },
  {
   "cell_type": "code",
   "execution_count": 4,
   "metadata": {},
   "outputs": [],
   "source": [
    "# make a list of all countries\n",
    "country = df['Country'].unique()"
   ]
  },
  {
   "cell_type": "code",
   "execution_count": 5,
   "metadata": {},
   "outputs": [],
   "source": [
    "# create a table for Data Table tab in dashboard\n",
    "df_tab = df.groupby('Country')[['Cases','Deaths']].sum().reset_index()\n",
    "df_tab.sort_values(by='Cases', ascending=False, inplace=True)"
   ]
  },
  {
   "cell_type": "code",
   "execution_count": 6,
   "metadata": {},
   "outputs": [],
   "source": [
    "# create table for map\n",
    "df_map = df.groupby('Country').agg({'Cases':'sum', 'Code':'max'}).reset_index()"
   ]
  },
  {
   "cell_type": "markdown",
   "metadata": {},
   "source": [
    "### 3. Build Dashboard"
   ]
  },
  {
   "cell_type": "code",
   "execution_count": 7,
   "metadata": {},
   "outputs": [],
   "source": [
    "# build app viewer\n",
    "viewer = jupyterlab_dash.AppViewer() \n",
    "\n",
    "# build app\n",
    "# set the fonts in app with external stylesheets(Bootstrap Grid System is used)\n",
    "external_stylesheets = ['https://cdn.rawgit.com/plotly/dash-app-stylesheets/2d266c578d2a6e8850ebce48fdb52759b2aef506/stylesheet-oil-and-gas.css']\n",
    "app = dash.Dash(__name__, external_stylesheets=external_stylesheets)\n",
    "\n",
    "# create a buble map showing cases by country\n",
    "fig = px.scatter_geo(df_map, locations=\"Code\",\n",
    "                     hover_name=\"Country\", size=\"Cases\",\n",
    "                     projection=\"natural earth\")\n",
    "fig.update_geos(showcountries=True) # show country borders\n",
    "fig.update_layout(title_text = 'Covid-19 Cases in the World')\n",
    "\n",
    "# add two tabs in layout\n",
    "# id and values for dcc.Tabs will be input for the callback\n",
    "# id value 'tabs-content' will be output for the callback\n",
    "app.layout = html.Div([\n",
    "    dcc.Tabs(\n",
    "        id = \"tabs\", value= 'tab_p', children =[\n",
    "            dcc.Tab(label='Data Table', value = 'tab-1'\n",
    "            ),\n",
    "            dcc.Tab(label='Analysis Dashboard', value = 'tab-2'\n",
    "            ),\n",
    "        ]),\n",
    "    html.Div(id='tabs-content')\n",
    "])\n",
    "        \n",
    "#callback to control the tab content\n",
    "@app.callback(Output('tabs-content', 'children'),\n",
    "              [Input('tabs', 'value')])\n",
    "def display_content(tab):\n",
    "    if tab == 'tab-1':\n",
    "        return html.Div([ \n",
    "            dash_table.DataTable(\n",
    "    id='table',\n",
    "    columns=[{\"name\": i, \"id\": i } for i in df_tab.columns],\n",
    "    style_cell={'textAlign': 'left',\n",
    "                'border': '1px solid grey'},\n",
    "    style_header={\n",
    "        'border': '1px solid black',\n",
    "        'backgroundColor': 'white',\n",
    "        'fontWeight': 'bold'\n",
    "    },\n",
    "    data=df_tab.to_dict('records')\n",
    "             )\n",
    "        ])    \n",
    "    elif tab == 'tab-2':\n",
    "        return html.Div([\n",
    "            html.Div([\n",
    "            dcc.Dropdown(id='dropdown',\n",
    "            options=[{\n",
    "                'label':i,\n",
    "                'value':i \n",
    "            } for i in country],\n",
    "            value=df.Country[0]),    \n",
    "            ],\n",
    "            style={'width': '25%',\n",
    "               'display': 'inline-block'}),\n",
    "            html.Div([\n",
    "            dcc.Graph(id='case-by-country')],\n",
    "             className = 'twelve columns'), # bootstrap grid system for layout\n",
    "            html.Div([\n",
    "            dcc.Graph(id='map', figure = fig)],\n",
    "             className = 'twelve columns')  # bootstrap grid system for layout\n",
    "        ])   \n",
    "\n",
    "#callback to control the graph\n",
    "@app.callback(Output('case-by-country', 'figure'), [Input('dropdown', 'value')])\n",
    "def update_graph(country):\n",
    "    d_fig = df.loc[df['Country'] == country]\n",
    "    return px.line(d_fig, x='Date', y='Cases', \n",
    "                   title='Number of Cases for each day in ' + str(country))\n",
    "\n",
    "viewer.show(app)"
   ]
  }
 ],
 "metadata": {
  "kernelspec": {
   "display_name": "Python 3",
   "language": "python",
   "name": "python3"
  },
  "language_info": {
   "codemirror_mode": {
    "name": "ipython",
    "version": 3
   },
   "file_extension": ".py",
   "mimetype": "text/x-python",
   "name": "python",
   "nbconvert_exporter": "python",
   "pygments_lexer": "ipython3",
   "version": "3.7.3"
  }
 },
 "nbformat": 4,
 "nbformat_minor": 4
}
