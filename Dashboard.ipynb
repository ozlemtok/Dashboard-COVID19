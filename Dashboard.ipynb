{
 "cells": [
  {
   "cell_type": "markdown",
   "metadata": {},
   "source": [
    "# Create a Dashboard Using Coronavirus Dataset"
   ]
  },
  {
   "cell_type": "markdown",
   "metadata": {},
   "source": [
    "This project shows how to make a dashboard in Python using coronavirus dataset obtained from [EU Open Data Portal - COVID-19 Coronavirus Data ](https://data.europa.eu/euodp/en/data/dataset/covid-19-coronavirus-data).\n",
    "\n",
    "Dash apps are composed of 2 parts: layout and interactivity. \n",
    "Layout can be set by html components.\n",
    "Interactivity can be achieved using callbacks.\n",
    "\n",
    "\n",
    "**Sources:**\n",
    "\n",
    "1. https://dash.plotly.com/dash-core-components/tabs\n",
    "2. https://medium.com/swlh/dashboards-in-python-for-beginners-and-everyone-else-using-dash-f0a045a86644\n",
    "3. https://medium.com/a-r-g-o/using-plotlys-dash-to-deliver-public-sector-decision-support-dashboards-ac863fa829fb\n",
    "4. https://www.w3schools.com/bootstrap/bootstrap_grid_system.asp"
   ]
  },
  {
   "cell_type": "markdown",
   "metadata": {},
   "source": [
    "### 1. Import Necessary Libraries"
   ]
  },
  {
   "cell_type": "code",
   "execution_count": 2,
   "metadata": {},
   "outputs": [],
   "source": [
    "import pandas as pd\n",
    "import dash\n",
    "import jupyter_dash\n",
    "\n",
    "#These libraries are for the layout (visual components of the application) :\n",
    "import dash_core_components as dcc #describe higher-level components that are interactive and are generated with \n",
    "                                   #JavaScript, HTML, and CSS through the React.js library.\n",
    "import dash_html_components as html\n",
    "from dash.dependencies import Input, Output # needed for callbacks\n",
    "import dash_table # needed to make a table in dashboard\n",
    "import plotly.express as px # needed to make map\n",
    "import plotly.io as plt_io"
   ]
  },
  {
   "cell_type": "markdown",
   "metadata": {},
   "source": [
    "### 2. Load the Data"
   ]
  },
  {
   "cell_type": "code",
   "execution_count": 28,
   "metadata": {},
   "outputs": [],
   "source": [
    "# load data\n",
    "df = pd.read_csv('https://opendata.ecdc.europa.eu/covid19/casedistribution/csv')"
   ]
  },
  {
   "cell_type": "markdown",
   "metadata": {},
   "source": [
    "### 3. Clean Data"
   ]
  },
  {
   "cell_type": "code",
   "execution_count": 29,
   "metadata": {},
   "outputs": [],
   "source": [
    "# clean data\n",
    "df = df.rename(columns={'dateRep':'Date','countriesAndTerritories':'Country',\n",
    "                        'countryterritoryCode':'Code','popData2018':'Population',\n",
    "                        'cases':'Cases', 'deaths':'Deaths'})\n",
    "# change date time\n",
    "df.Date = pd.to_datetime(df.Date, format='%d/%m/%Y')"
   ]
  },
  {
   "cell_type": "code",
   "execution_count": 30,
   "metadata": {},
   "outputs": [],
   "source": [
    "df.drop(df.columns[len(df.columns)-1], axis=1, inplace=True)\n",
    "df.loc[df['Cases']<0, 'Cases'] = 0\n",
    "df.loc[df['Deaths']<0, 'Deaths'] = 0"
   ]
  },
  {
   "cell_type": "code",
   "execution_count": 31,
   "metadata": {},
   "outputs": [],
   "source": [
    "# make a list of all countries\n",
    "country = df['Country'].unique()"
   ]
  },
  {
   "cell_type": "code",
   "execution_count": 32,
   "metadata": {},
   "outputs": [],
   "source": [
    "# create a table for Data Table tab in dashboard\n",
    "df_tab = df.groupby('Country')[['Cases','Deaths']].sum().reset_index()\n",
    "df_tab.sort_values(by='Cases', ascending=False, inplace=True)"
   ]
  },
  {
   "cell_type": "code",
   "execution_count": 33,
   "metadata": {},
   "outputs": [],
   "source": [
    "# create table for map\n",
    "df_map = df.groupby('Country').agg({'Cases':'sum', 'Code':'max'}).reset_index()"
   ]
  },
  {
   "cell_type": "code",
   "execution_count": 35,
   "metadata": {},
   "outputs": [
    {
     "data": {
      "text/plain": [
       "'15 Jul 2020'"
      ]
     },
     "execution_count": 35,
     "metadata": {},
     "output_type": "execute_result"
    }
   ],
   "source": [
    "today = df['Date'].max().strftime('%d %b %Y')\n",
    "today"
   ]
  },
  {
   "cell_type": "markdown",
   "metadata": {},
   "source": [
    "### 3. Build Dashboard"
   ]
  },
  {
   "cell_type": "code",
   "execution_count": 37,
   "metadata": {},
   "outputs": [
    {
     "name": "stdout",
     "output_type": "stream",
     "text": [
      "Dash app running on http://127.0.0.1:8050/\n"
     ]
    }
   ],
   "source": [
    "# build app viewer\n",
    "#viewer = AppViewer() \n",
    "\n",
    "# build app\n",
    "# set the fonts in app with external stylesheets(Bootstrap Grid System is used)\n",
    "#external_stylesheets = ['https://raw.githubusercontent.com/plotly/dash-oil-and-gas-demo/master/assets/s1.css']\n",
    "app = jupyter_dash.JupyterDash(__name__)\n",
    "\n",
    "colors = {\n",
    "    'background': '#ffffff',\n",
    "    'text': '#070707'\n",
    "}\n",
    "\n",
    "\n",
    "# create a buble map showing cases by country\n",
    "fig = px.scatter_geo(df_map, locations=\"Code\",\n",
    "                     hover_name=\"Country\", size=\"Cases\",\n",
    "                     projection=\"natural earth\",\n",
    "                     title = 'Covid-19 Cases in the World')\n",
    "fig.update_geos(showcountries=True) # show country borders\n",
    "fig.update_layout(title=dict(x=0.5), plot_bgcolor=colors['background'], paper_bgcolor=colors['background'], font_color=colors['text'])\n",
    "\n",
    "\n",
    "\n",
    "\n",
    "app.layout = html.Div(\n",
    "    [\n",
    "\n",
    "        html.Div(\n",
    "            [\n",
    "               html.H3(\n",
    "                   'Coronavirus Statistics',\n",
    "                   style={\n",
    "                       'textAlign': 'center',\n",
    "                       'color': colors['text']\n",
    "                       }\n",
    "                   )\n",
    "            ],\n",
    "            id=\"header\",\n",
    "            className='twelve columns',\n",
    "        ),\n",
    "                    \n",
    "        \n",
    "        html.Div(\n",
    "            [\n",
    "                html.Div(\n",
    "                [\n",
    "                    html.Div(\n",
    "                        [\n",
    "                            dcc.Dropdown(\n",
    "                                id='dropdown',\n",
    "                                options=[{\n",
    "                                    'label':i,\n",
    "                                    'value':i\n",
    "                                    } for i in country],\n",
    "                                value=df.Country[0],\n",
    "                                className=\"dcc_control\"\n",
    "                                ),   \n",
    "                        ],\n",
    "                        className=\"pretty_container\"\n",
    "                    ),\n",
    "                    \n",
    "                    html.Div(\n",
    "                        [\n",
    "                            html.P(\"Total no. of Cases\"),\n",
    "                            html.H6(\n",
    "                                id=\"cases_text\"\n",
    "                            ) \n",
    "                        ],\n",
    "                        id=\"cases\",\n",
    "                        className=\"pretty_container\"\n",
    "                    ),\n",
    "                    \n",
    "                     html.Div(\n",
    "                        [\n",
    "                            html.P(\"Total no. of Deaths\"),\n",
    "                            html.H6(\n",
    "                                id=\"deaths_text\"\n",
    "                            ) \n",
    "                        ],\n",
    "                        id=\"deaths\",\n",
    "                        className=\"pretty_container\"\n",
    "                    ),\n",
    "                    \n",
    "                    html.Div(\n",
    "                        [\n",
    "                            html.P(\"Cases - \" + today ),\n",
    "                            html.H6(\n",
    "                                id=\"today_text\"\n",
    "                            ) \n",
    "                        ],\n",
    "                        id=\"today\",\n",
    "                        className=\"pretty_container\"\n",
    "                    )\n",
    "                     \n",
    "                ],\n",
    "                className=\"two columns\"\n",
    "                ),\n",
    "                \n",
    "                html.Div(\n",
    "                [\n",
    "                    dcc.Graph(\n",
    "                        id='case-by-country',\n",
    "                    )\n",
    "                ],\n",
    "                className=\"pretty_container nine columns\"\n",
    "                )\n",
    "            ],\n",
    "            id='graph',\n",
    "            \n",
    "           \n",
    "        ),\n",
    "        \n",
    "        html.Div(\n",
    "            [\n",
    "                html.Div(\n",
    "                    [\n",
    "                        dcc.Graph(\n",
    "                            id='map', \n",
    "                            figure = fig,\n",
    "                            )\n",
    "                        ],\n",
    "                        className=\"pretty_container eleven columns\"\n",
    "                    )\n",
    "                ],\n",
    "            id=\"graph-map\",\n",
    "        #    className='row',\n",
    "            ),\n",
    "    ],\n",
    ")\n",
    "          \n",
    "\n",
    "#callback to control the graph\n",
    "@app.callback(Output('case-by-country', 'figure'), [Input('dropdown', 'value')])\n",
    "def update_graph(country):\n",
    "    d_fig = df.loc[df['Country'] == country]\n",
    "    \n",
    "    fig = px.line(d_fig, x='Date', y='Cases', \n",
    "                   title='Number of Cases in ' + str(country))\n",
    "    \n",
    "    fig.layout.template = plt_io.templates['presentation']\n",
    "    fig.update_layout(plot_bgcolor=colors['background'], paper_bgcolor=colors['background'], font_color=colors['text'])\n",
    "    \n",
    "    return fig\n",
    "\n",
    "@app.callback(Output('cases_text','children'), [Input('dropdown', 'value')])\n",
    "def update_cases(country):\n",
    "    d_cases = df.loc[df['Country'] == country]\n",
    "    total = d_cases['Cases'].sum()\n",
    "    \n",
    "    return total\n",
    "\n",
    "@app.callback(Output('deaths_text','children'), [Input('dropdown', 'value')])\n",
    "def update_deaths(country):\n",
    "    d_cases = df.loc[df['Country'] == country]\n",
    "    total = d_cases['Deaths'].sum()\n",
    "    \n",
    "    return total\n",
    "\n",
    "@app.callback(Output('today_text','children'), [Input('dropdown', 'value')])\n",
    "def update_today(country):\n",
    "    d_cases = df.loc[df['Country'] == country]\n",
    "    d_cases = d_cases.loc[d_cases['Date'] == today]\n",
    "    total = d_cases['Cases']\n",
    "    \n",
    "    return total\n",
    "\n",
    "app.run_server(mode='external')"
   ]
  },
  {
   "cell_type": "code",
   "execution_count": null,
   "metadata": {},
   "outputs": [],
   "source": []
  }
 ],
 "metadata": {
  "kernelspec": {
   "display_name": "Python 3",
   "language": "python",
   "name": "python3"
  },
  "language_info": {
   "codemirror_mode": {
    "name": "ipython",
    "version": 3
   },
   "file_extension": ".py",
   "mimetype": "text/x-python",
   "name": "python",
   "nbconvert_exporter": "python",
   "pygments_lexer": "ipython3",
   "version": "3.7.3"
  }
 },
 "nbformat": 4,
 "nbformat_minor": 4
}
